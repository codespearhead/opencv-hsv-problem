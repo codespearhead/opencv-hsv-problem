{
 "cells": [
  {
   "cell_type": "code",
   "execution_count": 1,
   "id": "910820f8-c1c8-4fd2-883a-3984a448394a",
   "metadata": {},
   "outputs": [],
   "source": [
    "# pip install -r requirements.txt\n",
    "\n",
    "import cv2\n",
    "import numpy as np\n",
    "\n",
    "imgRGB = cv2.imread(\"02-Magic_Cube.png\")\n",
    "imgHSV = cv2.cvtColor(imgRGB, cv2.COLOR_BGR2HSV)\n",
    "\n",
    "angle = 360 # red\n",
    "# angle = 60 # yellow\n",
    "# angle = 120 # green\n",
    "\n",
    "angle = angle / 2\n",
    "hueTolerance = 20 # See 04-HSV_180.png and tune it to your requirements\n",
    "\n",
    "lim_inf = np.array([angle - hueTolerance, 100, 100])\n",
    "lim_sup = np.array([angle + hueTolerance, 255, 255])\n",
    "\n",
    "imgSegmented = cv2.inRange(imgHSV, lim_inf, lim_sup)\n",
    "\n",
    "cv2.imshow(\"Original\", imgRGB) \n",
    "cv2.imshow(\"Segmentaed\", imgSegmented)\n",
    "\n",
    "cv2.waitKey(0)\n",
    "cv2.destroyAllWindows()"
   ]
  }
 ],
 "metadata": {
  "kernelspec": {
   "display_name": "Python 3 (ipykernel)",
   "language": "python",
   "name": "python3"
  },
  "language_info": {
   "codemirror_mode": {
    "name": "ipython",
    "version": 3
   },
   "file_extension": ".py",
   "mimetype": "text/x-python",
   "name": "python",
   "nbconvert_exporter": "python",
   "pygments_lexer": "ipython3",
   "version": "3.11.3"
  }
 },
 "nbformat": 4,
 "nbformat_minor": 5
}
